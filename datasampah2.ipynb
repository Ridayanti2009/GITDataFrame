{
 "cells": [
  {
   "cell_type": "code",
   "execution_count": 2,
   "metadata": {},
   "outputs": [
    {
     "name": "stdout",
     "output_type": "stream",
     "text": [
      "    nama_kabupaten_kota  jumlah_produksi_sampah  tahun\n",
      "0       KABUPATEN BOGOR                 1511.15   2015\n",
      "1    KABUPATEN SUKABUMI                  419.01   2015\n",
      "2     KABUPATEN CIANJUR                  981.41   2015\n",
      "3     KABUPATEN BANDUNG                 1895.94   2015\n",
      "4       KABUPATEN GARUT                  464.74   2015\n",
      "..                  ...                     ...    ...\n",
      "184         KOTA BEKASI                 1500.77   2021\n",
      "185          KOTA DEPOK                 1418.87   2021\n",
      "186         KOTA CIMAHI                  193.36   2021\n",
      "187    KOTA TASIKMALAYA                  295.87   2021\n",
      "188         KOTA BANJAR                   60.29   2021\n",
      "\n",
      "[189 rows x 3 columns]\n"
     ]
    }
   ],
   "source": [
    "import pandas as pd\n",
    "#soal 1\n",
    "df_data_sampah = pd.read_excel('DataSampah.xlsx')[['nama_kabupaten_kota', 'jumlah_produksi_sampah', 'tahun']]\n",
    "print (df_data_sampah)\n"
   ]
  },
  {
   "cell_type": "code",
   "execution_count": 3,
   "metadata": {},
   "outputs": [
    {
     "name": "stdout",
     "output_type": "stream",
     "text": [
      "Total produksi sampah di Jawa Barat pada tahun 2019 adalah 24490.56 ton per hari.\n"
     ]
    }
   ],
   "source": [
    "import pandas as pd\n",
    "tahun_datasampah = int(input(\"Masukkan tahun (2015-2021): \"))\n",
    "\n",
    "if tahun_datasampah in df_data_sampah['tahun'].unique():\n",
    "    total_produksi_sampah = 0\n",
    "\n",
    "    for _, row in df_data_sampah.iterrows():\n",
    "        if row['tahun'] == tahun_datasampah:\n",
    "            total_produksi_sampah += row['jumlah_produksi_sampah']\n",
    "    \n",
    "    print(f\"Total produksi sampah di Jawa Barat pada tahun {tahun_datasampah} adalah {total_produksi_sampah:.2f} ton per hari.\")\n",
    "else:\n",
    "    print(f\"Tahun {tahun_datasampah} tidak ada di dalam data. Silakan masukkan tahun antara 2015 dan 2021.\")"
   ]
  },
  {
   "cell_type": "code",
   "execution_count": 4,
   "metadata": {},
   "outputs": [
    {
     "name": "stdout",
     "output_type": "stream",
     "text": [
      "Total produksi sampah per tahun (2015-2021):\n",
      "Tahun 2015: 20969.27 ton\n",
      "Tahun 2016: 20969.27 ton\n",
      "Tahun 2017: 20969.27 ton\n",
      "Tahun 2018: 22772.92 ton\n",
      "Tahun 2019: 24490.56 ton\n",
      "Tahun 2020: 25333.00 ton\n",
      "Tahun 2021: 15735.36 ton\n"
     ]
    }
   ],
   "source": [
    "total_sampah_pertahun = {}\n",
    "\n",
    "for _, row in df_data_sampah.iterrows():\n",
    "    tahun = row['tahun']\n",
    "    jumlah = row['jumlah_produksi_sampah']\n",
    "\n",
    "    if tahun not in total_sampah_pertahun:\n",
    "        total_sampah_pertahun[tahun] = 0\n",
    "    total_sampah_pertahun[tahun] += jumlah\n",
    "\n",
    "print(\"Total produksi sampah per tahun (2015-2021):\")\n",
    "for tahun, total in sorted(total_sampah_pertahun.items()):\n",
    "    print(f\"Tahun {tahun}: {total:.2f} ton\")"
   ]
  }
 ],
 "metadata": {
  "kernelspec": {
   "display_name": "Python 3",
   "language": "python",
   "name": "python3"
  },
  "language_info": {
   "codemirror_mode": {
    "name": "ipython",
    "version": 3
   },
   "file_extension": ".py",
   "mimetype": "text/x-python",
   "name": "python",
   "nbconvert_exporter": "python",
   "pygments_lexer": "ipython3",
   "version": "3.12.7"
  }
 },
 "nbformat": 4,
 "nbformat_minor": 2
}
