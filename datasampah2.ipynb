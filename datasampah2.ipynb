{
 "cells": [
  {
   "cell_type": "code",
   "execution_count": null,
   "metadata": {},
   "outputs": [],
   "source": [
    "import pandas as pd\n",
    "#soal 1\n",
    "df_data_sampah = pd.read_excel('DataSampah.xlsx')[['nama_kabupaten_kota', 'jumlah_produksi_sampah', 'tahun']]\n",
    "print (df_data_sampah)\n"
   ]
  }
 ],
 "metadata": {
  "language_info": {
   "name": "python"
  }
 },
 "nbformat": 4,
 "nbformat_minor": 2
}
