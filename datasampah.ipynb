{
 "cells": [
  {
   "cell_type": "code",
   "execution_count": 17,
   "metadata": {},
   "outputs": [
    {
     "name": "stdout",
     "output_type": "stream",
     "text": [
      "    nama_kabupaten_kota  jumlah_produksi_sampah  tahun\n",
      "0       KABUPATEN BOGOR                 1511.15   2015\n",
      "1    KABUPATEN SUKABUMI                  419.01   2015\n",
      "2     KABUPATEN CIANJUR                  981.41   2015\n",
      "3     KABUPATEN BANDUNG                 1895.94   2015\n",
      "4       KABUPATEN GARUT                  464.74   2015\n",
      "..                  ...                     ...    ...\n",
      "184         KOTA BEKASI                 1500.77   2021\n",
      "185          KOTA DEPOK                 1418.87   2021\n",
      "186         KOTA CIMAHI                  193.36   2021\n",
      "187    KOTA TASIKMALAYA                  295.87   2021\n",
      "188         KOTA BANJAR                   60.29   2021\n",
      "\n",
      "[189 rows x 3 columns]\n"
     ]
    },
    {
     "name": "stdout",
     "output_type": "stream",
     "text": [
      "Total produksi sampah di Jawa Barat pada tahun 2016 adalah 20969.27 ton per hari.\n"
     ]
    }
   ],
   "source": [
    "import pandas as pd\n",
    "\n",
    "df_data_sampah = pd.read_excel('DataSampah.xlsx')[['nama_kabupaten_kota', 'jumlah_produksi_sampah', 'tahun']]\n",
    "print (df_data_sampah)\n",
    "\n",
    "tahun_datasampah = int(input(\"Masukkan tahun (2015-2021): \"))\n",
    "\n",
    "if tahun_datasampah in df_data_sampah['tahun'].unique():\n",
    "    data_tahun_datasampah = df_data_sampah[df_data_sampah['tahun'] == tahun_datasampah]\n",
    "    total_produksi_sampah = data_tahun_datasampah['jumlah_produksi_sampah'].sum()\n",
    "    print(f\"Total produksi sampah di Jawa Barat pada tahun {tahun_datasampah} adalah {total_produksi_sampah:.2f} ton per hari.\")\n",
    "else:\n",
    "    print(f\"Tahun {tahun_datasampah} tidak ada di dalam data. Silakan masukan tahun antara 2015 dan 2021.\")"
   ]
  },
  {
   "cell_type": "code",
   "execution_count": 15,
   "metadata": {},
   "outputs": [
    {
     "data": {
      "text/html": [
       "<div>\n",
       "<style scoped>\n",
       "    .dataframe tbody tr th:only-of-type {\n",
       "        vertical-align: middle;\n",
       "    }\n",
       "\n",
       "    .dataframe tbody tr th {\n",
       "        vertical-align: top;\n",
       "    }\n",
       "\n",
       "    .dataframe thead th {\n",
       "        text-align: right;\n",
       "    }\n",
       "</style>\n",
       "<table border=\"1\" class=\"dataframe\">\n",
       "  <thead>\n",
       "    <tr style=\"text-align: right;\">\n",
       "      <th></th>\n",
       "      <th>nama_kabupaten_kota</th>\n",
       "      <th>jumlah_produksi_sampah</th>\n",
       "      <th>tahun</th>\n",
       "    </tr>\n",
       "  </thead>\n",
       "  <tbody>\n",
       "    <tr>\n",
       "      <th>0</th>\n",
       "      <td>KABUPATEN BOGOR</td>\n",
       "      <td>1511.15</td>\n",
       "      <td>2015</td>\n",
       "    </tr>\n",
       "    <tr>\n",
       "      <th>1</th>\n",
       "      <td>KABUPATEN SUKABUMI</td>\n",
       "      <td>419.01</td>\n",
       "      <td>2015</td>\n",
       "    </tr>\n",
       "    <tr>\n",
       "      <th>2</th>\n",
       "      <td>KABUPATEN CIANJUR</td>\n",
       "      <td>981.41</td>\n",
       "      <td>2015</td>\n",
       "    </tr>\n",
       "    <tr>\n",
       "      <th>3</th>\n",
       "      <td>KABUPATEN BANDUNG</td>\n",
       "      <td>1895.94</td>\n",
       "      <td>2015</td>\n",
       "    </tr>\n",
       "    <tr>\n",
       "      <th>4</th>\n",
       "      <td>KABUPATEN GARUT</td>\n",
       "      <td>464.74</td>\n",
       "      <td>2015</td>\n",
       "    </tr>\n",
       "    <tr>\n",
       "      <th>...</th>\n",
       "      <td>...</td>\n",
       "      <td>...</td>\n",
       "      <td>...</td>\n",
       "    </tr>\n",
       "    <tr>\n",
       "      <th>184</th>\n",
       "      <td>KOTA BEKASI</td>\n",
       "      <td>1500.77</td>\n",
       "      <td>2021</td>\n",
       "    </tr>\n",
       "    <tr>\n",
       "      <th>185</th>\n",
       "      <td>KOTA DEPOK</td>\n",
       "      <td>1418.87</td>\n",
       "      <td>2021</td>\n",
       "    </tr>\n",
       "    <tr>\n",
       "      <th>186</th>\n",
       "      <td>KOTA CIMAHI</td>\n",
       "      <td>193.36</td>\n",
       "      <td>2021</td>\n",
       "    </tr>\n",
       "    <tr>\n",
       "      <th>187</th>\n",
       "      <td>KOTA TASIKMALAYA</td>\n",
       "      <td>295.87</td>\n",
       "      <td>2021</td>\n",
       "    </tr>\n",
       "    <tr>\n",
       "      <th>188</th>\n",
       "      <td>KOTA BANJAR</td>\n",
       "      <td>60.29</td>\n",
       "      <td>2021</td>\n",
       "    </tr>\n",
       "  </tbody>\n",
       "</table>\n",
       "<p>189 rows × 3 columns</p>\n",
       "</div>"
      ],
      "text/plain": [
       "    nama_kabupaten_kota  jumlah_produksi_sampah  tahun\n",
       "0       KABUPATEN BOGOR                 1511.15   2015\n",
       "1    KABUPATEN SUKABUMI                  419.01   2015\n",
       "2     KABUPATEN CIANJUR                  981.41   2015\n",
       "3     KABUPATEN BANDUNG                 1895.94   2015\n",
       "4       KABUPATEN GARUT                  464.74   2015\n",
       "..                  ...                     ...    ...\n",
       "184         KOTA BEKASI                 1500.77   2021\n",
       "185          KOTA DEPOK                 1418.87   2021\n",
       "186         KOTA CIMAHI                  193.36   2021\n",
       "187    KOTA TASIKMALAYA                  295.87   2021\n",
       "188         KOTA BANJAR                   60.29   2021\n",
       "\n",
       "[189 rows x 3 columns]"
      ]
     },
     "execution_count": 15,
     "metadata": {},
     "output_type": "execute_result"
    }
   ],
   "source": [
    "import pandas as pd\n",
    "\n",
    "df_data_sampah = pd.read_excel('DataSampah.xlsx')[['nama_kabupaten_kota', 'jumlah_produksi_sampah', 'tahun']]\n",
    "df_data_sampah"
   ]
  },
  {
   "cell_type": "code",
   "execution_count": 11,
   "metadata": {},
   "outputs": [
    {
     "name": "stdout",
     "output_type": "stream",
     "text": [
      "Total produksi sampah di Jawa Barat untuk tahun 2015 adalah 20969.27 ton per hari.\n"
     ]
    }
   ],
   "source": [
    "import pandas as pd\n",
    "\n",
    "tahun_datasampah = int(input(\"Masukkan tahun (2015-2021): \"))\n",
    "\n",
    "if tahun_datasampah in df_data_sampah['tahun'].unique():\n",
    "    data_tahun_datasampah = df_data_sampah[df_data_sampah['tahun'] == tahun_datasampah]\n",
    "    total_produksi_sampah = data_tahun_datasampah['jumlah_produksi_sampah'].sum()\n",
    "    print(f\"Total produksi sampah di Jawa Barat pada tahun {tahun_datasampah} adalah {total_produksi_sampah:.2f} ton per hari.\")\n",
    "else:\n",
    "    print(f\"Tahun {tahun_datasampah} tidak ada di dalam data. Silakan masukan tahun antara 2015 dan 2021.\")"
   ]
  }
 ],
 "metadata": {
  "kernelspec": {
   "display_name": "Python 3",
   "language": "python",
   "name": "python3"
  },
  "language_info": {
   "codemirror_mode": {
    "name": "ipython",
    "version": 3
   },
   "file_extension": ".py",
   "mimetype": "text/x-python",
   "name": "python",
   "nbconvert_exporter": "python",
   "pygments_lexer": "ipython3",
   "version": "3.12.7"
  }
 },
 "nbformat": 4,
 "nbformat_minor": 2
}
